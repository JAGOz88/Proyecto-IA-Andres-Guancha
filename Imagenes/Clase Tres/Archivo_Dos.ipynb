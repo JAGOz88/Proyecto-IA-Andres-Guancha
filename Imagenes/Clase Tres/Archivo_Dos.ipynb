{
 "cells": [
  {
   "cell_type": "code",
   "execution_count": 1,
   "metadata": {},
   "outputs": [
    {
     "name": "stdout",
     "output_type": "stream",
     "text": [
      "Programacion Inicial\n"
     ]
    }
   ],
   "source": [
    "print(\"Programacion Inicial\")\n"
   ]
  },
  {
   "cell_type": "code",
   "execution_count": 2,
   "metadata": {},
   "outputs": [
    {
     "name": "stdout",
     "output_type": "stream",
     "text": [
      "thisStringisAwesome\n"
     ]
    }
   ],
   "source": [
    "my_string=\"thisStringisAwesome\"\n",
    "my_string.upper()\n",
    "print(my_string)\n"
   ]
  },
  {
   "cell_type": "markdown",
   "metadata": {},
   "source": [
    "Manejo de Variables\n",
    "\n"
   ]
  },
  {
   "cell_type": "code",
   "execution_count": 5,
   "metadata": {},
   "outputs": [
    {
     "name": "stdout",
     "output_type": "stream",
     "text": [
      "12\n",
      "acción uno\n"
     ]
    }
   ],
   "source": [
    "#variable entera\n",
    "variable_int = 12\n",
    "print(variable_int)\n",
    "print(\"acción uno\")\n",
    "\n",
    "\n"
   ]
  },
  {
   "cell_type": "code",
   "execution_count": 35,
   "metadata": {},
   "outputs": [
    {
     "name": "stdout",
     "output_type": "stream",
     "text": [
      "['a']\n"
     ]
    }
   ],
   "source": [
    "#variable entera\n",
    "#variable_int = 12\n",
    "#print(variable_int)\n",
    "#print(\"sección uno\")\n",
    "my_string = \"thisStringisAwesome\"\n",
    "s=10\n",
    "my_string.upper()\n",
    "my_string.lower()\n",
    "my_string.count(\"th\")\n",
    "my_string.replace(\"i\",\"x\")\n",
    "my_string.replace(\"txis\",\"those\")\n",
    "\n",
    "my_string_dos = \"texto dos\"\n",
    "\n",
    "#concatenar (+)\n",
    "my_string + my_string_dos\n",
    "\n",
    "'ms' in my_string\n",
    "#lista []\n",
    "lista = [\"a\",\"b\",1,1.8]\n",
    "\n",
    "\n",
    "#print(type(lista[1:2]))\n",
    "print(lista[0:1])\n",
    "\n",
    "\n",
    "\n",
    "\n",
    "\n",
    "\n",
    "\n",
    "\n",
    "\n",
    "\n",
    "\n",
    "\n",
    "\n",
    "\n",
    "\n",
    "\n",
    "\n",
    "\n",
    "\n",
    "\n",
    "\n",
    "\n"
   ]
  }
 ],
 "metadata": {
  "kernelspec": {
   "display_name": "Python 3",
   "language": "python",
   "name": "python3"
  },
  "language_info": {
   "codemirror_mode": {
    "name": "ipython",
    "version": 3
   },
   "file_extension": ".py",
   "mimetype": "text/x-python",
   "name": "python",
   "nbconvert_exporter": "python",
   "pygments_lexer": "ipython3",
   "version": "3.11.4"
  }
 },
 "nbformat": 4,
 "nbformat_minor": 2
}
